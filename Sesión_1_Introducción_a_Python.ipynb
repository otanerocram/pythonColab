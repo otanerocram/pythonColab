{
  "nbformat": 4,
  "nbformat_minor": 0,
  "metadata": {
    "colab": {
      "provenance": [],
      "include_colab_link": true
    },
    "kernelspec": {
      "name": "python3",
      "display_name": "Python 3"
    },
    "language_info": {
      "name": "python"
    }
  },
  "cells": [
    {
      "cell_type": "markdown",
      "metadata": {
        "id": "view-in-github",
        "colab_type": "text"
      },
      "source": [
        "<a href=\"https://colab.research.google.com/github/otanerocram/pythonColab/blob/main/Sesi%C3%B3n_1_Introducci%C3%B3n_a_Python.ipynb\" target=\"_parent\"><img src=\"https://colab.research.google.com/assets/colab-badge.svg\" alt=\"Open In Colab\"/></a>"
      ]
    },
    {
      "cell_type": "markdown",
      "source": [
        "## Introducción a Python"
      ],
      "metadata": {
        "id": "n-_uf-r87SH_"
      }
    },
    {
      "cell_type": "code",
      "execution_count": null,
      "metadata": {
        "colab": {
          "base_uri": "https://localhost:8080/"
        },
        "id": "2tE5e8up61Eg",
        "outputId": "be76015b-11cd-4a8e-c315-820251bcb4cc"
      },
      "outputs": [
        {
          "output_type": "stream",
          "name": "stdout",
          "text": [
            "Hola este es mi primer codigo\n"
          ]
        }
      ],
      "source": [
        "print(\"Hola este es mi primer codigo\")"
      ]
    },
    {
      "cell_type": "code",
      "source": [
        "print(124)"
      ],
      "metadata": {
        "colab": {
          "base_uri": "https://localhost:8080/"
        },
        "id": "6fBq3Fo47MPu",
        "outputId": "c9bf4d0f-a750-4715-a082-90810790bcf7"
      },
      "execution_count": null,
      "outputs": [
        {
          "output_type": "stream",
          "name": "stdout",
          "text": [
            "124\n"
          ]
        }
      ]
    },
    {
      "cell_type": "code",
      "source": [
        "#esto un comentario no se ejecuta \n",
        "\n",
        "nueva_var = 124"
      ],
      "metadata": {
        "id": "EcozGbfs72le"
      },
      "execution_count": null,
      "outputs": []
    },
    {
      "cell_type": "code",
      "source": [
        "print(nueva_var)"
      ],
      "metadata": {
        "colab": {
          "base_uri": "https://localhost:8080/"
        },
        "id": "puo5XrF18BnX",
        "outputId": "67464ebc-328c-4e6a-ed3f-192ca457a477"
      },
      "execution_count": null,
      "outputs": [
        {
          "output_type": "stream",
          "name": "stdout",
          "text": [
            "124\n"
          ]
        }
      ]
    },
    {
      "cell_type": "code",
      "source": [
        "nueva_var = \"ciento veinte\""
      ],
      "metadata": {
        "id": "f_ID4y2r8Ger"
      },
      "execution_count": null,
      "outputs": []
    },
    {
      "cell_type": "code",
      "source": [
        "print(nueva_var)"
      ],
      "metadata": {
        "colab": {
          "base_uri": "https://localhost:8080/"
        },
        "id": "dMm9yg1o8N2L",
        "outputId": "de593d3b-79ec-4c6a-e55a-3dcd05e9192c"
      },
      "execution_count": null,
      "outputs": [
        {
          "output_type": "stream",
          "name": "stdout",
          "text": [
            "ciento veinte\n"
          ]
        }
      ]
    },
    {
      "cell_type": "markdown",
      "source": [
        "## Tipos de datos"
      ],
      "metadata": {
        "id": "zrYyKNjK83YP"
      }
    },
    {
      "cell_type": "code",
      "source": [
        "type(nueva_var)"
      ],
      "metadata": {
        "colab": {
          "base_uri": "https://localhost:8080/"
        },
        "id": "W_0sV8tF8Qah",
        "outputId": "0e18f86b-9b20-4840-eba8-f1552a130795"
      },
      "execution_count": null,
      "outputs": [
        {
          "output_type": "execute_result",
          "data": {
            "text/plain": [
              "str"
            ]
          },
          "metadata": {},
          "execution_count": 9
        }
      ]
    },
    {
      "cell_type": "code",
      "source": [
        "nueva_var = 124\n",
        "type(nueva_var)"
      ],
      "metadata": {
        "colab": {
          "base_uri": "https://localhost:8080/"
        },
        "id": "Wb2j2J7p8-Dw",
        "outputId": "3f0e2a12-8257-4b4c-a6be-69a9efde50fe"
      },
      "execution_count": null,
      "outputs": [
        {
          "output_type": "execute_result",
          "data": {
            "text/plain": [
              "int"
            ]
          },
          "metadata": {},
          "execution_count": 10
        }
      ]
    },
    {
      "cell_type": "code",
      "source": [
        "type(100)"
      ],
      "metadata": {
        "colab": {
          "base_uri": "https://localhost:8080/"
        },
        "id": "VdrAtVc19CTZ",
        "outputId": "f1fd527b-aa33-47d6-9ce9-3a5ebe4f0b55"
      },
      "execution_count": null,
      "outputs": [
        {
          "output_type": "execute_result",
          "data": {
            "text/plain": [
              "int"
            ]
          },
          "metadata": {},
          "execution_count": 11
        }
      ]
    },
    {
      "cell_type": "code",
      "source": [
        "type(100.23)"
      ],
      "metadata": {
        "colab": {
          "base_uri": "https://localhost:8080/"
        },
        "id": "Xxsk4N6e9F-Q",
        "outputId": "9af11d6f-7a13-4064-aea0-0e39ba4cba35"
      },
      "execution_count": null,
      "outputs": [
        {
          "output_type": "execute_result",
          "data": {
            "text/plain": [
              "float"
            ]
          },
          "metadata": {},
          "execution_count": 12
        }
      ]
    },
    {
      "cell_type": "code",
      "source": [
        "type(23 + 2j)"
      ],
      "metadata": {
        "colab": {
          "base_uri": "https://localhost:8080/"
        },
        "id": "UBJfKaK39H9M",
        "outputId": "054f2f69-8078-463d-8792-1d613c485227"
      },
      "execution_count": null,
      "outputs": [
        {
          "output_type": "execute_result",
          "data": {
            "text/plain": [
              "complex"
            ]
          },
          "metadata": {},
          "execution_count": 13
        }
      ]
    },
    {
      "cell_type": "code",
      "source": [
        "type(23 + 1j)"
      ],
      "metadata": {
        "colab": {
          "base_uri": "https://localhost:8080/"
        },
        "id": "smRcbRNP9NFO",
        "outputId": "6a77ec14-e610-4068-f744-e965ba75df8d"
      },
      "execution_count": null,
      "outputs": [
        {
          "output_type": "execute_result",
          "data": {
            "text/plain": [
              "complex"
            ]
          },
          "metadata": {},
          "execution_count": 15
        }
      ]
    },
    {
      "cell_type": "markdown",
      "source": [
        "### Tipos de dato Boolean"
      ],
      "metadata": {
        "id": "KjoSXyMJ97aa"
      }
    },
    {
      "cell_type": "code",
      "source": [
        "type( 1 < 2 )"
      ],
      "metadata": {
        "colab": {
          "base_uri": "https://localhost:8080/"
        },
        "id": "vCX7TL7g9U43",
        "outputId": "6b92255e-48a5-462a-a418-5cba68ea9d4a"
      },
      "execution_count": null,
      "outputs": [
        {
          "output_type": "execute_result",
          "data": {
            "text/plain": [
              "bool"
            ]
          },
          "metadata": {},
          "execution_count": 16
        }
      ]
    },
    {
      "cell_type": "code",
      "source": [
        "1 < 2"
      ],
      "metadata": {
        "colab": {
          "base_uri": "https://localhost:8080/"
        },
        "id": "eRsO4i2A9ee6",
        "outputId": "a2b6e72a-68f9-4a7b-bd9d-3897074f1ac1"
      },
      "execution_count": null,
      "outputs": [
        {
          "output_type": "execute_result",
          "data": {
            "text/plain": [
              "True"
            ]
          },
          "metadata": {},
          "execution_count": 17
        }
      ]
    },
    {
      "cell_type": "code",
      "source": [
        "type( True )"
      ],
      "metadata": {
        "colab": {
          "base_uri": "https://localhost:8080/"
        },
        "id": "jLEY_-Se9i4u",
        "outputId": "31991a93-cec2-4858-b274-aac8ece88de2"
      },
      "execution_count": null,
      "outputs": [
        {
          "output_type": "execute_result",
          "data": {
            "text/plain": [
              "bool"
            ]
          },
          "metadata": {},
          "execution_count": 18
        }
      ]
    },
    {
      "cell_type": "code",
      "source": [
        "type( False )"
      ],
      "metadata": {
        "colab": {
          "base_uri": "https://localhost:8080/"
        },
        "id": "GVth_m4v90cP",
        "outputId": "6b13d9e1-750b-45da-99cd-3b6b1557ac1f"
      },
      "execution_count": null,
      "outputs": [
        {
          "output_type": "execute_result",
          "data": {
            "text/plain": [
              "bool"
            ]
          },
          "metadata": {},
          "execution_count": 19
        }
      ]
    },
    {
      "cell_type": "code",
      "source": [
        "condicion = 12 > 20"
      ],
      "metadata": {
        "id": "G_IVbirb94Hd"
      },
      "execution_count": null,
      "outputs": []
    },
    {
      "cell_type": "code",
      "source": [
        "condicion"
      ],
      "metadata": {
        "colab": {
          "base_uri": "https://localhost:8080/"
        },
        "id": "3us2diLF-Clz",
        "outputId": "626f84c7-8612-432f-ddd6-37e0dbaea75f"
      },
      "execution_count": null,
      "outputs": [
        {
          "output_type": "execute_result",
          "data": {
            "text/plain": [
              "False"
            ]
          },
          "metadata": {},
          "execution_count": 21
        }
      ]
    },
    {
      "cell_type": "code",
      "source": [
        "type( None )"
      ],
      "metadata": {
        "colab": {
          "base_uri": "https://localhost:8080/"
        },
        "id": "cTab0HKz-EAB",
        "outputId": "88c18ef1-7a8a-446c-9c29-44d1f568a282"
      },
      "execution_count": null,
      "outputs": [
        {
          "output_type": "execute_result",
          "data": {
            "text/plain": [
              "NoneType"
            ]
          },
          "metadata": {},
          "execution_count": 22
        }
      ]
    },
    {
      "cell_type": "code",
      "source": [
        "condicion = None"
      ],
      "metadata": {
        "id": "Q7DL7JXQ-Kx4"
      },
      "execution_count": null,
      "outputs": []
    },
    {
      "cell_type": "code",
      "source": [
        "type(condicion)"
      ],
      "metadata": {
        "colab": {
          "base_uri": "https://localhost:8080/"
        },
        "id": "kIeKXqDl-PN0",
        "outputId": "c4995d1f-81d3-4df4-e0b0-4e8b52e3b9c3"
      },
      "execution_count": null,
      "outputs": [
        {
          "output_type": "execute_result",
          "data": {
            "text/plain": [
              "NoneType"
            ]
          },
          "metadata": {},
          "execution_count": 24
        }
      ]
    },
    {
      "cell_type": "code",
      "source": [
        "type(print)"
      ],
      "metadata": {
        "colab": {
          "base_uri": "https://localhost:8080/"
        },
        "id": "0nE3zKad-RKL",
        "outputId": "bccafef2-3f33-4697-8988-175bde8e7d8c"
      },
      "execution_count": null,
      "outputs": [
        {
          "output_type": "execute_result",
          "data": {
            "text/plain": [
              "builtin_function_or_method"
            ]
          },
          "metadata": {},
          "execution_count": 25
        }
      ]
    },
    {
      "cell_type": "markdown",
      "source": [
        "### Operaciones matemáticas"
      ],
      "metadata": {
        "id": "hseGuL0H-okz"
      }
    },
    {
      "cell_type": "code",
      "source": [
        "120 + 32 #suma"
      ],
      "metadata": {
        "colab": {
          "base_uri": "https://localhost:8080/"
        },
        "id": "TeJaiUDa-qpW",
        "outputId": "03dcb18f-1b4d-40fc-f9d0-2ff41a2005ad"
      },
      "execution_count": null,
      "outputs": [
        {
          "output_type": "execute_result",
          "data": {
            "text/plain": [
              "152"
            ]
          },
          "metadata": {},
          "execution_count": 26
        }
      ]
    },
    {
      "cell_type": "code",
      "source": [
        "15-29 #resta"
      ],
      "metadata": {
        "colab": {
          "base_uri": "https://localhost:8080/"
        },
        "id": "fGNaoOdq-sW3",
        "outputId": "3f470142-5ec7-4ae3-88a6-b11df91bf3b9"
      },
      "execution_count": null,
      "outputs": [
        {
          "output_type": "execute_result",
          "data": {
            "text/plain": [
              "-14"
            ]
          },
          "metadata": {},
          "execution_count": 28
        }
      ]
    },
    {
      "cell_type": "code",
      "source": [
        "45*20"
      ],
      "metadata": {
        "colab": {
          "base_uri": "https://localhost:8080/"
        },
        "id": "NT2VkLcd-t4R",
        "outputId": "ab7e4f54-7147-4960-d96d-b08a092d3afa"
      },
      "execution_count": null,
      "outputs": [
        {
          "output_type": "execute_result",
          "data": {
            "text/plain": [
              "900"
            ]
          },
          "metadata": {},
          "execution_count": 29
        }
      ]
    },
    {
      "cell_type": "code",
      "source": [
        "920 / 5"
      ],
      "metadata": {
        "colab": {
          "base_uri": "https://localhost:8080/"
        },
        "id": "boJCaHcc-xeC",
        "outputId": "20ba2ce3-74d4-4914-cad6-1cf5c4b2dd4e"
      },
      "execution_count": null,
      "outputs": [
        {
          "output_type": "execute_result",
          "data": {
            "text/plain": [
              "184.0"
            ]
          },
          "metadata": {},
          "execution_count": 30
        }
      ]
    },
    {
      "cell_type": "code",
      "source": [
        "920 / 17"
      ],
      "metadata": {
        "colab": {
          "base_uri": "https://localhost:8080/"
        },
        "id": "dA-1sINX-08N",
        "outputId": "554d67a1-5351-488d-9393-bd86adaa3fdc"
      },
      "execution_count": null,
      "outputs": [
        {
          "output_type": "execute_result",
          "data": {
            "text/plain": [
              "54.11764705882353"
            ]
          },
          "metadata": {},
          "execution_count": 31
        }
      ]
    },
    {
      "cell_type": "code",
      "source": [
        "920 // 17"
      ],
      "metadata": {
        "colab": {
          "base_uri": "https://localhost:8080/"
        },
        "id": "Lbv3WiSQ-6na",
        "outputId": "21bdc154-8586-49f4-827e-06fe940cb296"
      },
      "execution_count": null,
      "outputs": [
        {
          "output_type": "execute_result",
          "data": {
            "text/plain": [
              "54"
            ]
          },
          "metadata": {},
          "execution_count": 32
        }
      ]
    },
    {
      "cell_type": "code",
      "source": [
        "920 % 17"
      ],
      "metadata": {
        "colab": {
          "base_uri": "https://localhost:8080/"
        },
        "id": "oDc5Nm9A-9EJ",
        "outputId": "dca80003-5f2b-491f-c7a1-6e8326d98566"
      },
      "execution_count": null,
      "outputs": [
        {
          "output_type": "execute_result",
          "data": {
            "text/plain": [
              "2"
            ]
          },
          "metadata": {},
          "execution_count": 33
        }
      ]
    },
    {
      "cell_type": "code",
      "source": [
        "3**2"
      ],
      "metadata": {
        "colab": {
          "base_uri": "https://localhost:8080/"
        },
        "id": "xCPd1dzF-_gL",
        "outputId": "f007b5f9-15bd-4e01-b591-47f736ee375f"
      },
      "execution_count": null,
      "outputs": [
        {
          "output_type": "execute_result",
          "data": {
            "text/plain": [
              "9"
            ]
          },
          "metadata": {},
          "execution_count": 34
        }
      ]
    },
    {
      "cell_type": "code",
      "source": [
        "pow(3,2)"
      ],
      "metadata": {
        "colab": {
          "base_uri": "https://localhost:8080/"
        },
        "id": "ksu-Dpdf_EwL",
        "outputId": "f9972860-8837-4040-b0cf-0b29468e6da8"
      },
      "execution_count": null,
      "outputs": [
        {
          "output_type": "execute_result",
          "data": {
            "text/plain": [
              "9"
            ]
          },
          "metadata": {},
          "execution_count": 35
        }
      ]
    },
    {
      "cell_type": "code",
      "source": [
        "9**(1/2)"
      ],
      "metadata": {
        "colab": {
          "base_uri": "https://localhost:8080/"
        },
        "id": "gH7y8uRi_IXQ",
        "outputId": "fc8b3ec7-efe5-4430-a629-6ff301c31c54"
      },
      "execution_count": null,
      "outputs": [
        {
          "output_type": "execute_result",
          "data": {
            "text/plain": [
              "3.0"
            ]
          },
          "metadata": {},
          "execution_count": 37
        }
      ]
    },
    {
      "cell_type": "code",
      "source": [
        "9**1/2"
      ],
      "metadata": {
        "colab": {
          "base_uri": "https://localhost:8080/"
        },
        "id": "l3Kr50H8_RzM",
        "outputId": "cc634076-7e88-4907-fffe-4427faf33944"
      },
      "execution_count": null,
      "outputs": [
        {
          "output_type": "execute_result",
          "data": {
            "text/plain": [
              "4.5"
            ]
          },
          "metadata": {},
          "execution_count": 38
        }
      ]
    },
    {
      "cell_type": "code",
      "source": [
        "2**3**2"
      ],
      "metadata": {
        "colab": {
          "base_uri": "https://localhost:8080/"
        },
        "id": "iOolOozC_bpV",
        "outputId": "ca4e9b01-c296-42fd-f18d-d3b9b87f0621"
      },
      "execution_count": null,
      "outputs": [
        {
          "output_type": "execute_result",
          "data": {
            "text/plain": [
              "512"
            ]
          },
          "metadata": {},
          "execution_count": 39
        }
      ]
    },
    {
      "cell_type": "code",
      "source": [
        "(2**3)**2"
      ],
      "metadata": {
        "colab": {
          "base_uri": "https://localhost:8080/"
        },
        "id": "_u5-ccym_qJd",
        "outputId": "8ff421bb-c56c-430d-9133-caf0a55c5544"
      },
      "execution_count": null,
      "outputs": [
        {
          "output_type": "execute_result",
          "data": {
            "text/plain": [
              "64"
            ]
          },
          "metadata": {},
          "execution_count": 40
        }
      ]
    },
    {
      "cell_type": "code",
      "source": [
        "(11 + 5)/ 2"
      ],
      "metadata": {
        "colab": {
          "base_uri": "https://localhost:8080/"
        },
        "id": "Osn38eno_wiR",
        "outputId": "cc74d899-891f-459e-ea98-08cee26b4e57"
      },
      "execution_count": null,
      "outputs": [
        {
          "output_type": "execute_result",
          "data": {
            "text/plain": [
              "8.0"
            ]
          },
          "metadata": {},
          "execution_count": 42
        }
      ]
    },
    {
      "cell_type": "markdown",
      "source": [
        "### Manejo de Fechas"
      ],
      "metadata": {
        "id": "a6QX8yPWAOBZ"
      }
    },
    {
      "cell_type": "code",
      "source": [
        "import datetime"
      ],
      "metadata": {
        "id": "c8eSgTZ-AJIU"
      },
      "execution_count": null,
      "outputs": []
    },
    {
      "cell_type": "code",
      "source": [
        "hoy = datetime.date.today()"
      ],
      "metadata": {
        "id": "_I7jHjGDAVYo"
      },
      "execution_count": null,
      "outputs": []
    },
    {
      "cell_type": "code",
      "source": [
        "hoy"
      ],
      "metadata": {
        "colab": {
          "base_uri": "https://localhost:8080/"
        },
        "id": "vrJ0fCNyAflB",
        "outputId": "59815e89-b176-48fe-88e0-b60404ee0e58"
      },
      "execution_count": null,
      "outputs": [
        {
          "output_type": "execute_result",
          "data": {
            "text/plain": [
              "datetime.date(2022, 9, 3)"
            ]
          },
          "metadata": {},
          "execution_count": 45
        }
      ]
    },
    {
      "cell_type": "code",
      "source": [
        "datetime.datetime.today()"
      ],
      "metadata": {
        "colab": {
          "base_uri": "https://localhost:8080/"
        },
        "id": "e1ca-PzPAh4K",
        "outputId": "88d9a299-7a80-47a3-cd58-e5ec81bc6289"
      },
      "execution_count": null,
      "outputs": [
        {
          "output_type": "execute_result",
          "data": {
            "text/plain": [
              "datetime.datetime(2022, 9, 3, 15, 40, 28, 219308)"
            ]
          },
          "metadata": {},
          "execution_count": 46
        }
      ]
    },
    {
      "cell_type": "code",
      "source": [
        "hoy.year"
      ],
      "metadata": {
        "colab": {
          "base_uri": "https://localhost:8080/"
        },
        "id": "kzB_4gZ_Aq9T",
        "outputId": "fe0e9816-d429-4956-cf4f-f6d853022be2"
      },
      "execution_count": null,
      "outputs": [
        {
          "output_type": "execute_result",
          "data": {
            "text/plain": [
              "2022"
            ]
          },
          "metadata": {},
          "execution_count": 47
        }
      ]
    },
    {
      "cell_type": "code",
      "source": [
        "hoy.month"
      ],
      "metadata": {
        "colab": {
          "base_uri": "https://localhost:8080/"
        },
        "id": "OB5b0F-YA_gC",
        "outputId": "dccfc162-a237-4060-90a5-af1977f01038"
      },
      "execution_count": null,
      "outputs": [
        {
          "output_type": "execute_result",
          "data": {
            "text/plain": [
              "9"
            ]
          },
          "metadata": {},
          "execution_count": 48
        }
      ]
    },
    {
      "cell_type": "code",
      "source": [
        "hoy.day"
      ],
      "metadata": {
        "colab": {
          "base_uri": "https://localhost:8080/"
        },
        "id": "eXGlE62mBB6p",
        "outputId": "fd6884f3-6e0b-4b61-d50f-7bfcdecfb559"
      },
      "execution_count": null,
      "outputs": [
        {
          "output_type": "execute_result",
          "data": {
            "text/plain": [
              "3"
            ]
          },
          "metadata": {},
          "execution_count": 49
        }
      ]
    },
    {
      "cell_type": "code",
      "source": [
        "var_fecha = '2022-08-16'"
      ],
      "metadata": {
        "id": "ECFR9NRhBDj8"
      },
      "execution_count": null,
      "outputs": []
    },
    {
      "cell_type": "code",
      "source": [
        "type(var_fecha)"
      ],
      "metadata": {
        "colab": {
          "base_uri": "https://localhost:8080/"
        },
        "id": "g2Jn-vvuBQxK",
        "outputId": "e09737ec-51bb-42f7-b5ca-acb90c36223d"
      },
      "execution_count": null,
      "outputs": [
        {
          "output_type": "execute_result",
          "data": {
            "text/plain": [
              "str"
            ]
          },
          "metadata": {},
          "execution_count": 59
        }
      ]
    },
    {
      "cell_type": "code",
      "source": [
        "#var_formato_fecha = \n",
        "datetime.datetime.strptime(var_fecha, '%Y-%m-%d')"
      ],
      "metadata": {
        "colab": {
          "base_uri": "https://localhost:8080/"
        },
        "id": "UVQVJT-YBS7R",
        "outputId": "39ff227f-9fba-4c4b-af6b-200fac63df0a"
      },
      "execution_count": null,
      "outputs": [
        {
          "output_type": "execute_result",
          "data": {
            "text/plain": [
              "datetime.datetime(2022, 8, 16, 0, 0)"
            ]
          },
          "metadata": {},
          "execution_count": 67
        }
      ]
    },
    {
      "cell_type": "code",
      "source": [
        "var_formato_fecha = datetime.datetime.strptime(var_fecha, '%Y/%m/%d')"
      ],
      "metadata": {
        "id": "tER94fLQCLEE"
      },
      "execution_count": null,
      "outputs": []
    },
    {
      "cell_type": "code",
      "source": [
        "type(var_formato_fecha)"
      ],
      "metadata": {
        "colab": {
          "base_uri": "https://localhost:8080/"
        },
        "id": "LepuxU0DBpeO",
        "outputId": "538b7952-cb3f-4cfa-9532-44ac92c59b38"
      },
      "execution_count": null,
      "outputs": [
        {
          "output_type": "execute_result",
          "data": {
            "text/plain": [
              "datetime.datetime"
            ]
          },
          "metadata": {},
          "execution_count": 57
        }
      ]
    },
    {
      "cell_type": "markdown",
      "source": [
        "## Controles de Flujo"
      ],
      "metadata": {
        "id": "w5fYHSMtCuRE"
      }
    },
    {
      "cell_type": "markdown",
      "source": [
        "### Statement IF"
      ],
      "metadata": {
        "id": "oCMbYvKYC0xU"
      }
    },
    {
      "cell_type": "code",
      "source": [
        "if 12 > 3:\n",
        "  print(\"12 es mayor que 3\")"
      ],
      "metadata": {
        "colab": {
          "base_uri": "https://localhost:8080/"
        },
        "id": "jlOgxwxRBvJX",
        "outputId": "7f01d407-6987-430b-f0cf-25c012e2e87e"
      },
      "execution_count": null,
      "outputs": [
        {
          "output_type": "stream",
          "name": "stdout",
          "text": [
            "12 es mayor que 3\n"
          ]
        }
      ]
    },
    {
      "cell_type": "code",
      "source": [
        "if 12 < 3:\n",
        "  print(\"12 es mayor que 3\")"
      ],
      "metadata": {
        "id": "DXWlXW3jC-o4"
      },
      "execution_count": null,
      "outputs": []
    },
    {
      "cell_type": "code",
      "source": [
        "if 12 < 3:\n",
        "  print(\"12 es mayor que 3\")\n",
        "else:\n",
        "  print(\"3 es menor que 12\")"
      ],
      "metadata": {
        "colab": {
          "base_uri": "https://localhost:8080/"
        },
        "id": "BK1pgExlDCkb",
        "outputId": "a1285f99-9b96-4b96-8339-f67f39a26109"
      },
      "execution_count": null,
      "outputs": [
        {
          "output_type": "stream",
          "name": "stdout",
          "text": [
            "3 es menor que 12\n"
          ]
        }
      ]
    },
    {
      "cell_type": "code",
      "source": [
        "if 12 < 3:\n",
        "  print(\"12 es mayor que 3\")\n",
        "elif 20 > 5:\n",
        "  print(\"20 es mayor que 5\")\n",
        "elif 14 < 30:\n",
        "  print(\"14 es menor que 30\")\n",
        "else:\n",
        "  print(\"3 es menor que 12\")"
      ],
      "metadata": {
        "colab": {
          "base_uri": "https://localhost:8080/"
        },
        "id": "Jv4yoV0UDNRk",
        "outputId": "6bf797ef-a846-4f5a-cbd2-c67e0e6a483b"
      },
      "execution_count": null,
      "outputs": [
        {
          "output_type": "stream",
          "name": "stdout",
          "text": [
            "20 es mayor que 5\n"
          ]
        }
      ]
    },
    {
      "cell_type": "code",
      "source": [
        "#tener cuidado con la indentación\n",
        "if 12 < 3:\n",
        "  print(\"12 es mayor que 3\")\n",
        "  print(\"esta es mi primera clase\")"
      ],
      "metadata": {
        "id": "XAaFE8QoDmVY"
      },
      "execution_count": null,
      "outputs": []
    },
    {
      "cell_type": "code",
      "source": [
        "if 12 < 3:\n",
        "  print(\"12 es mayor que 3\")\n",
        "print(\"esta es mi primera clase\")\n",
        "\n",
        "# se usa para diccionarios {}"
      ],
      "metadata": {
        "colab": {
          "base_uri": "https://localhost:8080/"
        },
        "id": "Y4Dqr7YyEJ9y",
        "outputId": "bab192cd-60a6-401a-fd11-aacb62e75109"
      },
      "execution_count": null,
      "outputs": [
        {
          "output_type": "stream",
          "name": "stdout",
          "text": [
            "esta es mi primera clase\n"
          ]
        }
      ]
    },
    {
      "cell_type": "code",
      "source": [
        "if True:\n",
        "  print(\"siempre es verdad\")"
      ],
      "metadata": {
        "colab": {
          "base_uri": "https://localhost:8080/"
        },
        "id": "7WyHXz2FEVxj",
        "outputId": "4b33916e-50ee-48df-9d09-c78133f54872"
      },
      "execution_count": null,
      "outputs": [
        {
          "output_type": "stream",
          "name": "stdout",
          "text": [
            "siempre es verdad\n"
          ]
        }
      ]
    },
    {
      "cell_type": "code",
      "source": [
        "if condicion:\n",
        "  print(\"se cumple\")\n",
        "else:\n",
        "  print(\"no se cumple\")"
      ],
      "metadata": {
        "colab": {
          "base_uri": "https://localhost:8080/"
        },
        "id": "nje0ei0lE9o7",
        "outputId": "91202440-b096-4314-bc25-1049cab2260d"
      },
      "execution_count": null,
      "outputs": [
        {
          "output_type": "stream",
          "name": "stdout",
          "text": [
            "no se cumple\n"
          ]
        }
      ]
    },
    {
      "cell_type": "code",
      "source": [
        "#IF simplificado\n",
        "\n",
        "print(\"12 es mayor que 10\") if 12 > 10 else print(\"falso\")"
      ],
      "metadata": {
        "colab": {
          "base_uri": "https://localhost:8080/"
        },
        "id": "xXShjQQDFFj2",
        "outputId": "2ac685d6-340b-4d8b-c6fa-40a837b0cea5"
      },
      "execution_count": null,
      "outputs": [
        {
          "output_type": "stream",
          "name": "stdout",
          "text": [
            "12 es mayor que 10\n"
          ]
        }
      ]
    },
    {
      "cell_type": "markdown",
      "source": [
        "### Función range"
      ],
      "metadata": {
        "id": "Tb8HaPk-GoyR"
      }
    },
    {
      "cell_type": "code",
      "source": [
        "range(4)"
      ],
      "metadata": {
        "colab": {
          "base_uri": "https://localhost:8080/"
        },
        "id": "pvhYqJcxGY4a",
        "outputId": "251c2eed-3808-48ac-a5b9-c34ff09ac8fb"
      },
      "execution_count": null,
      "outputs": [
        {
          "output_type": "execute_result",
          "data": {
            "text/plain": [
              "range(0, 4)"
            ]
          },
          "metadata": {},
          "execution_count": 81
        }
      ]
    },
    {
      "cell_type": "code",
      "source": [
        "list(range(10))"
      ],
      "metadata": {
        "colab": {
          "base_uri": "https://localhost:8080/"
        },
        "id": "b9mXEcJGG6mo",
        "outputId": "a9dbcafc-4b12-4232-c9d1-6232b3cb0485"
      },
      "execution_count": null,
      "outputs": [
        {
          "output_type": "execute_result",
          "data": {
            "text/plain": [
              "[0, 1, 2, 3, 4, 5, 6, 7, 8, 9]"
            ]
          },
          "metadata": {},
          "execution_count": 82
        }
      ]
    },
    {
      "cell_type": "code",
      "source": [
        "list(range(1,10))"
      ],
      "metadata": {
        "colab": {
          "base_uri": "https://localhost:8080/"
        },
        "id": "QhGFSHoGG-fE",
        "outputId": "4c91a35a-974f-4a98-b171-a38e3a8db05b"
      },
      "execution_count": null,
      "outputs": [
        {
          "output_type": "execute_result",
          "data": {
            "text/plain": [
              "[1, 2, 3, 4, 5, 6, 7, 8, 9]"
            ]
          },
          "metadata": {},
          "execution_count": 84
        }
      ]
    },
    {
      "cell_type": "markdown",
      "source": [
        "### Control FOR"
      ],
      "metadata": {
        "id": "plu7ihTDHWo_"
      }
    },
    {
      "cell_type": "code",
      "source": [
        "for i in range(1,10):\n",
        "  print(i**2)"
      ],
      "metadata": {
        "colab": {
          "base_uri": "https://localhost:8080/"
        },
        "id": "r01rp3ikHNQc",
        "outputId": "43fde8af-0f99-44e8-89a7-e9ec1f381d80"
      },
      "execution_count": null,
      "outputs": [
        {
          "output_type": "stream",
          "name": "stdout",
          "text": [
            "1\n",
            "4\n",
            "9\n",
            "16\n",
            "25\n",
            "36\n",
            "49\n",
            "64\n",
            "81\n"
          ]
        }
      ]
    },
    {
      "cell_type": "code",
      "source": [
        "for letra in \"hola mundo\":\n",
        "  print(letra)"
      ],
      "metadata": {
        "colab": {
          "base_uri": "https://localhost:8080/"
        },
        "id": "ygLwJNEvHooq",
        "outputId": "de2ad629-e490-4bae-b4cb-343b1d72ca3b"
      },
      "execution_count": null,
      "outputs": [
        {
          "output_type": "stream",
          "name": "stdout",
          "text": [
            "h\n",
            "o\n",
            "l\n",
            "a\n",
            " \n",
            "m\n",
            "u\n",
            "n\n",
            "d\n",
            "o\n"
          ]
        }
      ]
    },
    {
      "cell_type": "code",
      "source": [
        "for letra in \"hola mundo\":\n",
        "  if letra == \"o\":\n",
        "    print(\"encontramos la letra o\")"
      ],
      "metadata": {
        "colab": {
          "base_uri": "https://localhost:8080/"
        },
        "id": "mqDXLl48H9OO",
        "outputId": "127c3a02-9668-41cf-e9b9-ef490576d6f1"
      },
      "execution_count": null,
      "outputs": [
        {
          "output_type": "stream",
          "name": "stdout",
          "text": [
            "encontramos la letra o\n",
            "encontramos la letra o\n"
          ]
        }
      ]
    },
    {
      "cell_type": "code",
      "source": [
        "for letra in \"hola mundo\":\n",
        "  if letra == \"a\":\n",
        "    print(\"encontramos la letra a\")\n",
        "  print(letra)"
      ],
      "metadata": {
        "colab": {
          "base_uri": "https://localhost:8080/"
        },
        "id": "OPOquPfHIXw7",
        "outputId": "d9b5ca87-5bb1-43ad-d284-3afe0ebb1897"
      },
      "execution_count": null,
      "outputs": [
        {
          "output_type": "stream",
          "name": "stdout",
          "text": [
            "h\n",
            "o\n",
            "l\n",
            "encontramos la letra a\n",
            "a\n",
            " \n",
            "m\n",
            "u\n",
            "n\n",
            "d\n",
            "o\n"
          ]
        }
      ]
    },
    {
      "cell_type": "code",
      "source": [
        "contador = 0\n",
        "for letra in \"hola mundo soy Julio\":\n",
        "  if letra == \" \":\n",
        "    #contador = contador + 1\n",
        "    contador += 1 #alternativa\n",
        "print(\"encontramos \" + str(contador) + \" espacio(s) en blanco\")"
      ],
      "metadata": {
        "colab": {
          "base_uri": "https://localhost:8080/"
        },
        "id": "i5tapSN5Igoy",
        "outputId": "0e05a3cc-ed7f-430b-8c00-8459e0859150"
      },
      "execution_count": null,
      "outputs": [
        {
          "output_type": "stream",
          "name": "stdout",
          "text": [
            "encontramos 3 espacio(s) en blanco\n"
          ]
        }
      ]
    },
    {
      "cell_type": "code",
      "source": [
        "lista_meses = ['Enero','Febrero','Marzo'] #ejemplo de lista"
      ],
      "metadata": {
        "id": "Y6GK5uuWJFxz"
      },
      "execution_count": null,
      "outputs": []
    },
    {
      "cell_type": "code",
      "source": [
        "for trs in lista_meses:\n",
        "  print(trs)\n",
        "\n",
        "print(trs)"
      ],
      "metadata": {
        "colab": {
          "base_uri": "https://localhost:8080/"
        },
        "id": "5PMHd6WHJ2WP",
        "outputId": "bff43041-b3f8-44f0-8ebc-99e3cf564b28"
      },
      "execution_count": null,
      "outputs": [
        {
          "output_type": "stream",
          "name": "stdout",
          "text": [
            "Enero\n",
            "Febrero\n",
            "Marzo\n",
            "Marzo\n"
          ]
        }
      ]
    },
    {
      "cell_type": "markdown",
      "source": [
        "### Control While"
      ],
      "metadata": {
        "id": "SberXdsWKmFZ"
      }
    },
    {
      "cell_type": "code",
      "source": [
        "validador = 0\n",
        "while validador < 10:\n",
        "  print(\"es verdad\")\n",
        "  print(validador)\n",
        "  validador += 1\n",
        "  "
      ],
      "metadata": {
        "colab": {
          "base_uri": "https://localhost:8080/"
        },
        "id": "YHEzqjyCKAEq",
        "outputId": "20f7f3aa-6f19-4a1c-ca2a-9d2ccde2a406"
      },
      "execution_count": null,
      "outputs": [
        {
          "output_type": "stream",
          "name": "stdout",
          "text": [
            "es verdad\n",
            "0\n",
            "es verdad\n",
            "1\n",
            "es verdad\n",
            "2\n",
            "es verdad\n",
            "3\n",
            "es verdad\n",
            "4\n",
            "es verdad\n",
            "5\n",
            "es verdad\n",
            "6\n",
            "es verdad\n",
            "7\n",
            "es verdad\n",
            "8\n",
            "es verdad\n",
            "9\n"
          ]
        }
      ]
    },
    {
      "cell_type": "code",
      "source": [
        "validador"
      ],
      "metadata": {
        "colab": {
          "base_uri": "https://localhost:8080/"
        },
        "id": "ZN6xl0taLHRW",
        "outputId": "7af63a79-2ea0-4a29-e36c-4f6d0390b870"
      },
      "execution_count": null,
      "outputs": [
        {
          "output_type": "execute_result",
          "data": {
            "text/plain": [
              "10"
            ]
          },
          "metadata": {},
          "execution_count": 106
        }
      ]
    },
    {
      "cell_type": "markdown",
      "source": [
        "### Uso de Break y Pass"
      ],
      "metadata": {
        "id": "NQAlBfW_NIi-"
      }
    },
    {
      "cell_type": "code",
      "source": [
        "validador_2 = 0\n",
        "while True:\n",
        "  if validador_2 == 10:\n",
        "    break\n",
        "  print(\"es verdad\")\n",
        "  print(validador_2)\n",
        "  validador_2 += 1\n",
        "print(\"se terminó\")"
      ],
      "metadata": {
        "colab": {
          "base_uri": "https://localhost:8080/"
        },
        "id": "SXP2QjYhLgtQ",
        "outputId": "6f1677ce-8bc5-4489-85ac-ed12a9d891c1"
      },
      "execution_count": null,
      "outputs": [
        {
          "output_type": "stream",
          "name": "stdout",
          "text": [
            "es verdad\n",
            "0\n",
            "es verdad\n",
            "1\n",
            "es verdad\n",
            "2\n",
            "es verdad\n",
            "3\n",
            "es verdad\n",
            "4\n",
            "es verdad\n",
            "5\n",
            "es verdad\n",
            "6\n",
            "es verdad\n",
            "7\n",
            "es verdad\n",
            "8\n",
            "es verdad\n",
            "9\n",
            "se terminó\n"
          ]
        }
      ]
    },
    {
      "cell_type": "code",
      "source": [
        "for letra in \"hola mundo\":\n",
        "  if letra == \"a\":\n",
        "    print(\"encontramos la letra a\")\n",
        "    break\n",
        "  print(letra)"
      ],
      "metadata": {
        "colab": {
          "base_uri": "https://localhost:8080/"
        },
        "id": "sZQ1qBqTMBy8",
        "outputId": "4122705f-21c1-4e88-b7aa-efec32895357"
      },
      "execution_count": null,
      "outputs": [
        {
          "output_type": "stream",
          "name": "stdout",
          "text": [
            "h\n",
            "o\n",
            "l\n",
            "encontramos la letra a\n"
          ]
        }
      ]
    },
    {
      "cell_type": "code",
      "source": [
        "for letra in \"hola mundo\":\n",
        "  if letra == \"a\":\n",
        "    pass\n",
        "  else:\n",
        "    print(\"no es la a\")\n",
        "  print(letra)"
      ],
      "metadata": {
        "colab": {
          "base_uri": "https://localhost:8080/"
        },
        "id": "y4rkMiTAMemb",
        "outputId": "73eb5268-2e3b-4827-fd95-2f87039ff42a"
      },
      "execution_count": null,
      "outputs": [
        {
          "output_type": "stream",
          "name": "stdout",
          "text": [
            "no es la a\n",
            "h\n",
            "no es la a\n",
            "o\n",
            "no es la a\n",
            "l\n",
            "a\n",
            "no es la a\n",
            " \n",
            "no es la a\n",
            "m\n",
            "no es la a\n",
            "u\n",
            "no es la a\n",
            "n\n",
            "no es la a\n",
            "d\n",
            "no es la a\n",
            "o\n"
          ]
        }
      ]
    },
    {
      "cell_type": "markdown",
      "source": [
        "### Otras funciones utilizadas"
      ],
      "metadata": {
        "id": "JDphMsG4NO56"
      }
    },
    {
      "cell_type": "code",
      "source": [
        "# para saber la cantidad de elementos de un objeto\n",
        "\n",
        "len(\"se terminó\")"
      ],
      "metadata": {
        "colab": {
          "base_uri": "https://localhost:8080/"
        },
        "id": "ShUcqxRlM2dH",
        "outputId": "d5d749bb-6c52-4ed3-b035-e4465f063f10"
      },
      "execution_count": null,
      "outputs": [
        {
          "output_type": "execute_result",
          "data": {
            "text/plain": [
              "10"
            ]
          },
          "metadata": {},
          "execution_count": 115
        }
      ]
    },
    {
      "cell_type": "code",
      "source": [
        "len(lista_meses)"
      ],
      "metadata": {
        "colab": {
          "base_uri": "https://localhost:8080/"
        },
        "id": "hEaOoYi5NZle",
        "outputId": "566ebaa2-474d-4b89-c773-cd15c811ce1a"
      },
      "execution_count": null,
      "outputs": [
        {
          "output_type": "execute_result",
          "data": {
            "text/plain": [
              "3"
            ]
          },
          "metadata": {},
          "execution_count": 116
        }
      ]
    },
    {
      "cell_type": "code",
      "source": [
        "max(34,23,4,2)"
      ],
      "metadata": {
        "colab": {
          "base_uri": "https://localhost:8080/"
        },
        "id": "RbRKgIOLNbzG",
        "outputId": "2905dcc8-2c4c-4ab3-afe7-87fbc53345c3"
      },
      "execution_count": null,
      "outputs": [
        {
          "output_type": "execute_result",
          "data": {
            "text/plain": [
              "34"
            ]
          },
          "metadata": {},
          "execution_count": 118
        }
      ]
    },
    {
      "cell_type": "code",
      "source": [
        "min(34,23,4,2)"
      ],
      "metadata": {
        "colab": {
          "base_uri": "https://localhost:8080/"
        },
        "id": "vAV1iQwSNhNG",
        "outputId": "820e7665-96cf-449e-b60d-a7fd17b58fa2"
      },
      "execution_count": null,
      "outputs": [
        {
          "output_type": "execute_result",
          "data": {
            "text/plain": [
              "2"
            ]
          },
          "metadata": {},
          "execution_count": 119
        }
      ]
    },
    {
      "cell_type": "code",
      "source": [
        "round(3.456)"
      ],
      "metadata": {
        "colab": {
          "base_uri": "https://localhost:8080/"
        },
        "id": "zbrrBPi9NuUr",
        "outputId": "8351c56f-7d32-4227-a280-0b9d6dd244aa"
      },
      "execution_count": null,
      "outputs": [
        {
          "output_type": "execute_result",
          "data": {
            "text/plain": [
              "3"
            ]
          },
          "metadata": {},
          "execution_count": 121
        }
      ]
    },
    {
      "cell_type": "code",
      "source": [
        "round(12343.4563434, 2) # redondeo de decimales"
      ],
      "metadata": {
        "colab": {
          "base_uri": "https://localhost:8080/"
        },
        "id": "Pr6R-o1FNxFg",
        "outputId": "ff0085c0-7083-4c2f-dd76-1af0652a5a66"
      },
      "execution_count": null,
      "outputs": [
        {
          "output_type": "execute_result",
          "data": {
            "text/plain": [
              "12343.46"
            ]
          },
          "metadata": {},
          "execution_count": 123
        }
      ]
    },
    {
      "cell_type": "code",
      "source": [
        "round(12343.4563434, -2) # redondeo de parte entera"
      ],
      "metadata": {
        "colab": {
          "base_uri": "https://localhost:8080/"
        },
        "id": "p7KxA__MN5Sl",
        "outputId": "33c4fa8b-49da-40e0-bc15-f5e3bb9433de"
      },
      "execution_count": null,
      "outputs": [
        {
          "output_type": "execute_result",
          "data": {
            "text/plain": [
              "12300.0"
            ]
          },
          "metadata": {},
          "execution_count": 124
        }
      ]
    },
    {
      "cell_type": "markdown",
      "source": [
        "### Manipulación de Strings"
      ],
      "metadata": {
        "id": "expXSDreWNr5"
      }
    },
    {
      "cell_type": "code",
      "source": [
        "#0 1 2 3  4  5\n",
        "#E s t a ' ' e s una Cadena de Prueba\"\n",
        "cadena_prueba = \"Esta es una Cadena de Prueba\""
      ],
      "metadata": {
        "id": "GkcGQgJsN_Qd"
      },
      "execution_count": null,
      "outputs": []
    },
    {
      "cell_type": "code",
      "source": [
        "cadena_prueba.replace(' ','')"
      ],
      "metadata": {
        "colab": {
          "base_uri": "https://localhost:8080/",
          "height": 35
        },
        "id": "ToMw5Uz1R3_e",
        "outputId": "f2433968-52ab-465e-86fd-68e7c1e17a32"
      },
      "execution_count": null,
      "outputs": [
        {
          "output_type": "execute_result",
          "data": {
            "text/plain": [
              "'EstaesunaCadenadePrueba'"
            ],
            "application/vnd.google.colaboratory.intrinsic+json": {
              "type": "string"
            }
          },
          "metadata": {},
          "execution_count": 150
        }
      ]
    },
    {
      "cell_type": "code",
      "source": [
        "cadena_prueba.replace('C','c')"
      ],
      "metadata": {
        "colab": {
          "base_uri": "https://localhost:8080/",
          "height": 35
        },
        "id": "aURb7-ncUmtX",
        "outputId": "5df9dabf-3ccf-44d8-c539-44d67ba9438a"
      },
      "execution_count": null,
      "outputs": [
        {
          "output_type": "execute_result",
          "data": {
            "text/plain": [
              "'Esta es una cadena de Prueba'"
            ],
            "application/vnd.google.colaboratory.intrinsic+json": {
              "type": "string"
            }
          },
          "metadata": {},
          "execution_count": 151
        }
      ]
    },
    {
      "cell_type": "code",
      "source": [
        "cadena_prueba.upper()"
      ],
      "metadata": {
        "colab": {
          "base_uri": "https://localhost:8080/",
          "height": 35
        },
        "id": "JsQGUPCAR7fq",
        "outputId": "4ee72121-9a96-4bc9-c193-4251c55cee12"
      },
      "execution_count": null,
      "outputs": [
        {
          "output_type": "execute_result",
          "data": {
            "text/plain": [
              "'ESTA ES UNA CADENA DE PRUEBA'"
            ],
            "application/vnd.google.colaboratory.intrinsic+json": {
              "type": "string"
            }
          },
          "metadata": {},
          "execution_count": 129
        }
      ]
    },
    {
      "cell_type": "code",
      "source": [
        "cadena_prueba.lower()"
      ],
      "metadata": {
        "colab": {
          "base_uri": "https://localhost:8080/",
          "height": 35
        },
        "id": "wNHFaKqgSAsI",
        "outputId": "c951ff81-9b06-44fe-f2a5-0e1de487bf2d"
      },
      "execution_count": null,
      "outputs": [
        {
          "output_type": "execute_result",
          "data": {
            "text/plain": [
              "'esta es una cadena de prueba'"
            ],
            "application/vnd.google.colaboratory.intrinsic+json": {
              "type": "string"
            }
          },
          "metadata": {},
          "execution_count": 130
        }
      ]
    },
    {
      "cell_type": "code",
      "source": [
        "cadena_prueba.title()"
      ],
      "metadata": {
        "colab": {
          "base_uri": "https://localhost:8080/",
          "height": 35
        },
        "id": "vZ7ZkfYITAhj",
        "outputId": "9931dd94-6e69-4a50-db3b-c63d1e1bc91f"
      },
      "execution_count": null,
      "outputs": [
        {
          "output_type": "execute_result",
          "data": {
            "text/plain": [
              "'Esta Es Una Cadena De Prueba'"
            ],
            "application/vnd.google.colaboratory.intrinsic+json": {
              "type": "string"
            }
          },
          "metadata": {},
          "execution_count": 147
        }
      ]
    },
    {
      "cell_type": "code",
      "source": [
        "cadena_prueba.count('a')"
      ],
      "metadata": {
        "colab": {
          "base_uri": "https://localhost:8080/"
        },
        "id": "BTv5nvvqSFdk",
        "outputId": "ac398bba-d49f-4dda-f5ec-71e13ce0181d"
      },
      "execution_count": null,
      "outputs": [
        {
          "output_type": "execute_result",
          "data": {
            "text/plain": [
              "5"
            ]
          },
          "metadata": {},
          "execution_count": 132
        }
      ]
    },
    {
      "cell_type": "code",
      "source": [
        "cadena_prueba.find('a')"
      ],
      "metadata": {
        "colab": {
          "base_uri": "https://localhost:8080/"
        },
        "id": "_ay7pI1vSOR-",
        "outputId": "346c1d89-20d6-48f9-919c-ead0e3e9d114"
      },
      "execution_count": null,
      "outputs": [
        {
          "output_type": "execute_result",
          "data": {
            "text/plain": [
              "3"
            ]
          },
          "metadata": {},
          "execution_count": 153
        }
      ]
    },
    {
      "cell_type": "code",
      "source": [
        "cadena_prueba.index('a')"
      ],
      "metadata": {
        "colab": {
          "base_uri": "https://localhost:8080/"
        },
        "id": "-Hq2CT_gSCnO",
        "outputId": "2dea7292-2cbc-494e-b0ad-17459980fc32"
      },
      "execution_count": null,
      "outputs": [
        {
          "output_type": "execute_result",
          "data": {
            "text/plain": [
              "3"
            ]
          },
          "metadata": {},
          "execution_count": 154
        }
      ]
    },
    {
      "cell_type": "code",
      "source": [
        "var_numero = '1235767.2'"
      ],
      "metadata": {
        "id": "4fNfO75DSQ8h"
      },
      "execution_count": null,
      "outputs": []
    },
    {
      "cell_type": "code",
      "source": [
        "var_numero.isnumeric()"
      ],
      "metadata": {
        "colab": {
          "base_uri": "https://localhost:8080/"
        },
        "id": "dfI553ddSa51",
        "outputId": "a1fe5385-ec7b-44d8-dad0-642ebaa524af"
      },
      "execution_count": null,
      "outputs": [
        {
          "output_type": "execute_result",
          "data": {
            "text/plain": [
              "False"
            ]
          },
          "metadata": {},
          "execution_count": 145
        }
      ]
    },
    {
      "cell_type": "code",
      "source": [
        "'1235767'.isnumeric()"
      ],
      "metadata": {
        "colab": {
          "base_uri": "https://localhost:8080/"
        },
        "id": "SU9DoWBhScRL",
        "outputId": "3bb3e112-0ce8-4646-d9ca-9001b1d43d6a"
      },
      "execution_count": null,
      "outputs": [
        {
          "output_type": "execute_result",
          "data": {
            "text/plain": [
              "True"
            ]
          },
          "metadata": {},
          "execution_count": 146
        }
      ]
    },
    {
      "cell_type": "code",
      "source": [
        "' 12357 67 '.strip()"
      ],
      "metadata": {
        "colab": {
          "base_uri": "https://localhost:8080/",
          "height": 35
        },
        "id": "liPBkNNxSgXW",
        "outputId": "00afd677-eb4f-4a76-9b31-949c819f0bb1"
      },
      "execution_count": null,
      "outputs": [
        {
          "output_type": "execute_result",
          "data": {
            "text/plain": [
              "'12357 67'"
            ],
            "application/vnd.google.colaboratory.intrinsic+json": {
              "type": "string"
            }
          },
          "metadata": {},
          "execution_count": 142
        }
      ]
    },
    {
      "cell_type": "code",
      "source": [
        "'123576,72,456.34,0.8999'.split(',')"
      ],
      "metadata": {
        "colab": {
          "base_uri": "https://localhost:8080/"
        },
        "id": "1NT-mUccSqD9",
        "outputId": "00b99e5f-627f-4455-ad3e-388af1624be8"
      },
      "execution_count": null,
      "outputs": [
        {
          "output_type": "execute_result",
          "data": {
            "text/plain": [
              "['123576', '72', '456.34', '0.8999']"
            ]
          },
          "metadata": {},
          "execution_count": 143
        }
      ]
    },
    {
      "cell_type": "code",
      "source": [
        "var_input = input(\"Ingrese su edad: \")\n",
        "print(var_input)"
      ],
      "metadata": {
        "colab": {
          "base_uri": "https://localhost:8080/"
        },
        "id": "yXtVjS0nSzhL",
        "outputId": "93839819-662a-4f16-957f-f5b671db225a"
      },
      "execution_count": null,
      "outputs": [
        {
          "output_type": "stream",
          "name": "stdout",
          "text": [
            "Ingrese su edad: 31\n",
            "31\n"
          ]
        }
      ]
    },
    {
      "cell_type": "markdown",
      "source": [
        "\n",
        "### Desarrollo de problemas"
      ],
      "metadata": {
        "id": "Cj40fWBKWo4x"
      }
    },
    {
      "cell_type": "markdown",
      "source": [
        "1. Script para calcular el factorial de un número\n",
        "\n",
        "Factorial de 4! = 1\\*2\\*3\\*4\n",
        "\n",
        "Factorial de 5! = 1\\*2\\*3\\*4\\*5"
      ],
      "metadata": {
        "id": "fRMuNjJ3Ws-5"
      }
    },
    {
      "cell_type": "code",
      "source": [
        "#Solución\n",
        "valor = input(\"Ingrese el valor deseado: \")\n",
        "#quiero calcular factorial de 5\n",
        "list(range(1, 5 + 1))\n",
        "fact = 1\n",
        "for i in range(1, int(valor)+1):\n",
        "  #print(i)\n",
        "  fact = fact * i\n",
        "print(fact)"
      ],
      "metadata": {
        "colab": {
          "base_uri": "https://localhost:8080/"
        },
        "id": "bKi7yoZdUFIN",
        "outputId": "12c383a7-508f-4b3d-d178-f84b5be3785b"
      },
      "execution_count": null,
      "outputs": [
        {
          "output_type": "stream",
          "name": "stdout",
          "text": [
            "Ingrese el valor deseado: 5\n",
            "120\n"
          ]
        }
      ]
    },
    {
      "cell_type": "code",
      "source": [
        "def factorial(valor):\n",
        "  list(range(1, 5 + 1))\n",
        "  fact = 1\n",
        "  for i in range(1, int(valor)+1):\n",
        "    #print(i)\n",
        "    fact = fact * i\n",
        "  return fact\n"
      ],
      "metadata": {
        "id": "nUl4OKSyfhLK"
      },
      "execution_count": null,
      "outputs": []
    },
    {
      "cell_type": "code",
      "source": [
        "factorial(4)"
      ],
      "metadata": {
        "colab": {
          "base_uri": "https://localhost:8080/"
        },
        "id": "P8y9yP6nfuub",
        "outputId": "06b2839d-5f47-4605-99ca-0a59b3acbd40"
      },
      "execution_count": null,
      "outputs": [
        {
          "output_type": "execute_result",
          "data": {
            "text/plain": [
              "24"
            ]
          },
          "metadata": {},
          "execution_count": 188
        }
      ]
    },
    {
      "cell_type": "markdown",
      "source": [
        "2. Crear un script que te devuelva la cantidad de caracteres de una cadena, sin usar la función len()"
      ],
      "metadata": {
        "id": "XhfkeTsCYSWL"
      }
    },
    {
      "cell_type": "code",
      "source": [
        "cadena = \"hoy estoy aprendiendo python\""
      ],
      "metadata": {
        "id": "hlhmSJN1YU2a"
      },
      "execution_count": null,
      "outputs": []
    },
    {
      "cell_type": "code",
      "source": [
        "len(cadena)"
      ],
      "metadata": {
        "colab": {
          "base_uri": "https://localhost:8080/"
        },
        "id": "QdwK8apnbVpL",
        "outputId": "eb6a8bb0-5379-4638-bc39-a521a9a703e7"
      },
      "execution_count": null,
      "outputs": [
        {
          "output_type": "execute_result",
          "data": {
            "text/plain": [
              "28"
            ]
          },
          "metadata": {},
          "execution_count": 168
        }
      ]
    },
    {
      "cell_type": "code",
      "source": [
        "cont = 0\n",
        "for char in cadena:\n",
        "  cont+=1\n",
        "print(cont)\n"
      ],
      "metadata": {
        "colab": {
          "base_uri": "https://localhost:8080/"
        },
        "id": "-lO6g9n8cK1X",
        "outputId": "31fbd3a2-703f-4305-93d6-e6b67663e6cd"
      },
      "execution_count": null,
      "outputs": [
        {
          "output_type": "stream",
          "name": "stdout",
          "text": [
            "28\n"
          ]
        }
      ]
    },
    {
      "cell_type": "markdown",
      "source": [
        "3. Crear script para convertir la Tasa Efectiva Mensual (TEM) a Tasa Efectiva Anual (TEA)\n",
        "\n",
        "TEA = (1 + TEM)\\^ 12 - 1"
      ],
      "metadata": {
        "id": "88yyQcQdbqgI"
      }
    },
    {
      "cell_type": "code",
      "source": [
        "var_tem = 0.02 # igual al 4% mensual\n",
        "\n",
        "var_tea = (1 + var_tem)**12 - 1\n",
        "#print(var_tea*100)\n",
        "round(var_tea*100, 2)\n",
        "print(str(round(var_tea*100, 2))+ '% anual')\n"
      ],
      "metadata": {
        "colab": {
          "base_uri": "https://localhost:8080/"
        },
        "id": "4ycr4OzqbXW4",
        "outputId": "663d5407-867f-4d47-b3cb-f803ce907ae1"
      },
      "execution_count": null,
      "outputs": [
        {
          "output_type": "stream",
          "name": "stdout",
          "text": [
            "26.82% anual\n"
          ]
        }
      ]
    },
    {
      "cell_type": "markdown",
      "source": [
        "## Creando Funciones"
      ],
      "metadata": {
        "id": "Lld2o9YaeWen"
      }
    },
    {
      "cell_type": "code",
      "source": [
        "def tem_a_tea(tem):\n",
        "  var_tea = (1 + tem)**12 - 1\n",
        "  return round(var_tea*100, 2)"
      ],
      "metadata": {
        "id": "vDveKShHdVaX"
      },
      "execution_count": null,
      "outputs": []
    },
    {
      "cell_type": "code",
      "source": [
        "tem_a_tea(0.04)"
      ],
      "metadata": {
        "colab": {
          "base_uri": "https://localhost:8080/"
        },
        "id": "nHDeuDDEemzE",
        "outputId": "2ba8eff2-2504-4d21-c047-6d9e03b12c8f"
      },
      "execution_count": null,
      "outputs": [
        {
          "output_type": "execute_result",
          "data": {
            "text/plain": [
              "60.1"
            ]
          },
          "metadata": {},
          "execution_count": 180
        }
      ]
    },
    {
      "cell_type": "code",
      "source": [
        "tem_a_tea(0.02)"
      ],
      "metadata": {
        "colab": {
          "base_uri": "https://localhost:8080/"
        },
        "id": "EQdtP-G9eovA",
        "outputId": "177acc8c-c0e5-41e7-c60b-827e314b31df"
      },
      "execution_count": null,
      "outputs": [
        {
          "output_type": "execute_result",
          "data": {
            "text/plain": [
              "26.82"
            ]
          },
          "metadata": {},
          "execution_count": 183
        }
      ]
    },
    {
      "cell_type": "markdown",
      "source": [
        "4. Crear un script que reciba un entero del usuario y calcule la suma desde 1 hasta ese número ingresado."
      ],
      "metadata": {
        "id": "lQwEtUF1gIo8"
      }
    },
    {
      "cell_type": "code",
      "source": [
        "var_num = input('Ingrese numero: ')\n",
        "\n",
        "cont = 0 #iterando\n",
        "for i in range(1, int(var_num)+1):\n",
        "  cont = cont + i\n",
        "print(cont)\n",
        "\n"
      ],
      "metadata": {
        "colab": {
          "base_uri": "https://localhost:8080/"
        },
        "id": "TAz9eoP7eqQv",
        "outputId": "804599dc-9e9d-4103-c340-fa72e3344a95"
      },
      "execution_count": null,
      "outputs": [
        {
          "output_type": "stream",
          "name": "stdout",
          "text": [
            "Ingrese numero: 5\n",
            "15\n"
          ]
        }
      ]
    },
    {
      "cell_type": "code",
      "source": [
        "var_num = int(input('Ingrese numero: '))\n",
        "print(var_num*(var_num+1)/2) # n*(n+1)/2"
      ],
      "metadata": {
        "colab": {
          "base_uri": "https://localhost:8080/"
        },
        "id": "I6kgrCA-ga50",
        "outputId": "886fdd05-a472-4e91-91cf-8d0cacf91cac"
      },
      "execution_count": null,
      "outputs": [
        {
          "output_type": "stream",
          "name": "stdout",
          "text": [
            "Ingrese numero: 5\n",
            "15.0\n"
          ]
        }
      ]
    },
    {
      "cell_type": "markdown",
      "source": [
        "5. Crear un script que te devuelva la inversa de una cadena dada.\n",
        "\n",
        "\"estamos aprendiendo funciones basicas de python\"\n",
        "\n",
        "\"nohtyp ed sacisab senoicnuf odneidnerpa somatse\""
      ],
      "metadata": {
        "id": "FbHwtwAtg3D0"
      }
    },
    {
      "cell_type": "code",
      "source": [
        "texto = \"estamos aprendiendo funciones basicas de python\""
      ],
      "metadata": {
        "id": "TZvtJoEKgsKM"
      },
      "execution_count": null,
      "outputs": []
    },
    {
      "cell_type": "code",
      "source": [
        "texto[::-1] # solución rápida"
      ],
      "metadata": {
        "colab": {
          "base_uri": "https://localhost:8080/",
          "height": 35
        },
        "id": "cpM1evxLh1ll",
        "outputId": "2e8dc91b-e9b2-49ca-f82f-9577392a6ff2"
      },
      "execution_count": null,
      "outputs": [
        {
          "output_type": "execute_result",
          "data": {
            "text/plain": [
              "'nohtyp ed sacisab senoicnuf odneidnerpa somatse'"
            ],
            "application/vnd.google.colaboratory.intrinsic+json": {
              "type": "string"
            }
          },
          "metadata": {},
          "execution_count": 219
        }
      ]
    },
    {
      "cell_type": "code",
      "source": [
        "len(texto)"
      ],
      "metadata": {
        "colab": {
          "base_uri": "https://localhost:8080/"
        },
        "id": "Q9EsCff6l7NH",
        "outputId": "71c9b49b-a75c-4f28-fc9a-08d9a68c3984"
      },
      "execution_count": null,
      "outputs": [
        {
          "output_type": "execute_result",
          "data": {
            "text/plain": [
              "47"
            ]
          },
          "metadata": {},
          "execution_count": 220
        }
      ]
    },
    {
      "cell_type": "code",
      "source": [
        "range(46, -1 , -1)\n",
        "46 # tercer parametro restar 1 \n",
        "45 # tercer parametro restar 1\n",
        "44\n",
        "#.\n",
        "#.\n",
        "0\n",
        "-1 # segundo parametro indica que la lista llega hasta un elemento antes"
      ],
      "metadata": {
        "id": "g89xaI_Tlglh"
      },
      "execution_count": null,
      "outputs": []
    },
    {
      "cell_type": "code",
      "source": [
        "list(range(46, 10 , -2))"
      ],
      "metadata": {
        "colab": {
          "base_uri": "https://localhost:8080/"
        },
        "id": "PwqWhV5Ymixx",
        "outputId": "a051cd72-d271-477b-f18d-3d364d3b2e29"
      },
      "execution_count": null,
      "outputs": [
        {
          "output_type": "execute_result",
          "data": {
            "text/plain": [
              "[46, 44, 42, 40, 38, 36, 34, 32, 30, 28, 26, 24, 22, 20, 18, 16, 14, 12]"
            ]
          },
          "metadata": {},
          "execution_count": 224
        }
      ]
    },
    {
      "cell_type": "code",
      "source": [
        "list(range(len(texto)-1,-1,-1))"
      ],
      "metadata": {
        "id": "W16LunvRm5gO"
      },
      "execution_count": null,
      "outputs": []
    },
    {
      "cell_type": "code",
      "source": [
        "#len(texto)\n",
        "nueva_cadena=''\n",
        "for i in range(len(texto)-1,-1,-1):\n",
        "  nueva_cadena = nueva_cadena + texto[i]\n",
        "print(nueva_cadena)"
      ],
      "metadata": {
        "colab": {
          "base_uri": "https://localhost:8080/"
        },
        "id": "J7c0niWUhB-R",
        "outputId": "46346d59-2fbb-45d6-bf09-48e9f9c720ca"
      },
      "execution_count": null,
      "outputs": [
        {
          "output_type": "stream",
          "name": "stdout",
          "text": [
            "nohtyp ed sacisab senoicnuf odneidnerpa somatse\n"
          ]
        }
      ]
    },
    {
      "cell_type": "code",
      "source": [
        "nueva_cadena=''\n",
        "for i in range(len(texto)-1,-1,-1):\n",
        "  print(texto[i],end=\"\")"
      ],
      "metadata": {
        "colab": {
          "base_uri": "https://localhost:8080/"
        },
        "id": "HtxtJSXTj7Yf",
        "outputId": "6e3e96f2-7c26-489a-9ccb-2885164fb771"
      },
      "execution_count": null,
      "outputs": [
        {
          "output_type": "stream",
          "name": "stdout",
          "text": [
            "nohtyp ed sacisab senoicnuf odneidnerpa somatse"
          ]
        }
      ]
    },
    {
      "cell_type": "markdown",
      "source": [
        "6. Crear un script que me indique la cantidad de dígitos de un número.\n",
        "\n",
        "24534 --> 5\n",
        "\n",
        "123 --> 3"
      ],
      "metadata": {
        "id": "1VEx75tjjJzw"
      }
    },
    {
      "cell_type": "code",
      "source": [
        "num = int(input('Ingrese numero a contar digitos: '))\n",
        "\n",
        "#len(str(num))\n",
        "\n",
        "cont = 0\n",
        "while num >= 10**cont:\n",
        "    cont = cont + 1\n",
        "print(cont)\n"
      ],
      "metadata": {
        "colab": {
          "base_uri": "https://localhost:8080/"
        },
        "id": "sbsEWIwyhooh",
        "outputId": "abf662ea-eaee-4e5a-d433-15bcb0bdcbd8"
      },
      "execution_count": null,
      "outputs": [
        {
          "output_type": "stream",
          "name": "stdout",
          "text": [
            "Ingrese numero a contar digitos: 999\n",
            "3\n"
          ]
        }
      ]
    },
    {
      "cell_type": "code",
      "source": [],
      "metadata": {
        "id": "zK1AntsWkVKk"
      },
      "execution_count": null,
      "outputs": []
    }
  ]
}